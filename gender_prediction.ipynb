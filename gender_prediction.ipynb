{
 "cells": [
  {
   "cell_type": "code",
   "execution_count": 1,
   "id": "7c658ce8",
   "metadata": {},
   "outputs": [],
   "source": [
    "import pandas as pd\n",
    "import gender_LSTM as gl\n",
    "import warnings \n",
    "warnings.filterwarnings(\"ignore\")\n",
    "%load_ext autoreload\n",
    "%autoreload 2"
   ]
  },
  {
   "cell_type": "markdown",
   "id": "1160b512",
   "metadata": {},
   "source": [
    "# Object Preperation"
   ]
  },
  {
   "cell_type": "code",
   "execution_count": 2,
   "id": "5a58cf2d",
   "metadata": {},
   "outputs": [],
   "source": [
    "training_set = pd.read_csv(\"gender_training_set.csv\")"
   ]
  },
  {
   "cell_type": "code",
   "execution_count": 3,
   "id": "313457c9",
   "metadata": {},
   "outputs": [],
   "source": [
    "train_object = gl.TrainData(training_set)"
   ]
  },
  {
   "cell_type": "code",
   "execution_count": 4,
   "id": "7d6b9580",
   "metadata": {},
   "outputs": [],
   "source": [
    "rnn = gl.RNN(gl.N_LET, gl.N_HIDDEN, 2)"
   ]
  },
  {
   "cell_type": "markdown",
   "id": "bf275af7",
   "metadata": {},
   "source": [
    "# Training"
   ]
  },
  {
   "cell_type": "code",
   "execution_count": 5,
   "id": "7ee6181c",
   "metadata": {},
   "outputs": [
    {
     "name": "stdout",
     "output_type": "stream",
     "text": [
      "100000 25% (2m 6s) 0.2085 liters / Male ✓\n",
      "200000 50% (4m 10s) 0.6144 renA / Male ✓\n",
      "300000 75% (6m 16s) 0.0934 finst / Male ✓\n",
      "400000 100% (8m 27s) 0.1124 kisen / Male ✓\n"
     ]
    },
    {
     "data": {
      "image/png": "[encoded data removed]",
      "text/plain": [
       "<Figure size 432x288 with 1 Axes>"
      ]
     },
     "metadata": {
      "needs_background": "light"
     },
     "output_type": "display_data"
    }
   ],
   "source": [
    "n_iters = 400000\n",
    "print_every = 100000\n",
    "plot_every = 100000\n",
    "learning_rate = 0.005\n",
    "gl.train(n_iters, print_every, plot_every, train_object.dict_genders, train_object.genders, learning_rate , rnn)"
   ]
  },
  {
   "cell_type": "markdown",
   "id": "5a5e69e2",
   "metadata": {},
   "source": [
    "# Confusion Matrix"
   ]
  },
  {
   "cell_type": "code",
   "execution_count": 6,
   "id": "030e12cf",
   "metadata": {},
   "outputs": [
    {
     "data": {
      "image/png": "[encoded data removed]",
      "text/plain": [
       "<Figure size 720x720 with 2 Axes>"
      ]
     },
     "metadata": {
      "needs_background": "light"
     },
     "output_type": "display_data"
    }
   ],
   "source": [
    "gl.plot_confisuon(train_object.genders, rnn, train_object.dict_genders, 1000)"
   ]
  },
  {
   "cell_type": "markdown",
   "id": "dddea512",
   "metadata": {},
   "source": [
    "# Sample Trials"
   ]
  },
  {
   "cell_type": "code",
   "execution_count": 8,
   "id": "6f087566",
   "metadata": {
    "scrolled": true
   },
   "outputs": [
    {
     "name": "stdout",
     "output_type": "stream",
     "text": [
      "\n",
      "> deniz\n",
      "(-0.37) Male\n",
      "\n",
      "> ufuk\n",
      "(-0.02) Male\n",
      "\n",
      "> younghun\n",
      "(-0.05) Male\n",
      "\n",
      "> john\n",
      "(-0.09) Male\n"
     ]
    }
   ],
   "source": [
    "gl.predict(\"deniz\", train_object.genders, rnn)\n",
    "gl.predict(\"ufuk\", train_object.genders, rnn)\n",
    "gl.predict(\"younghun\", train_object.genders, rnn)\n",
    "gl.predict(\"john\", train_object.genders, rnn)"
   ]
  },
  {
   "cell_type": "code",
   "execution_count": 10,
   "id": "3c906048",
   "metadata": {},
   "outputs": [
    {
     "name": "stdout",
     "output_type": "stream",
     "text": [
      "\n",
      "> derya\n",
      "(-0.01) Female\n",
      "\n",
      "> isabelle\n",
      "(-0.38) Female\n",
      "\n",
      "> alexandrina\n",
      "(-0.03) Female\n",
      "\n",
      "> sabrina\n",
      "(-0.03) Female\n"
     ]
    }
   ],
   "source": [
    "gl.predict(\"derya\", train_object.genders, rnn)\n",
    "gl.predict(\"isabelle\", train_object.genders, rnn)\n",
    "gl.predict(\"alexandrina\", train_object.genders, rnn)\n",
    "gl.predict(\"sabrina\", train_object.genders, rnn)"
   ]
  },
  {
   "cell_type": "code",
   "execution_count": 74,
   "id": "945237f1",
   "metadata": {},
   "outputs": [
    {
     "name": "stdout",
     "output_type": "stream",
     "text": [
      "\n",
      "> ayse\n",
      "(-0.34) Female\n",
      "\n",
      "> fatma\n",
      "(-0.06) Female\n",
      "\n",
      "> dilara\n",
      "(-0.06) Female\n"
     ]
    }
   ],
   "source": [
    "gl.predict(\"ayse\", train_object.genders, rnn)\n",
    "gl.predict(\"fatma\", train_object.genders, rnn)\n",
    "gl.predict(\"dilara\", train_object.genders, rnn)"
   ]
  },
  {
   "cell_type": "code",
   "execution_count": null,
   "id": "2e2b4970",
   "metadata": {},
   "outputs": [],
   "source": []
  }
 ],
 "metadata": {
  "kernelspec": {
   "display_name": "Python 3",
   "language": "python",
   "name": "python3"
  },
  "language_info": {
   "codemirror_mode": {
    "name": "ipython",
    "version": 3
   },
   "file_extension": ".py",
   "mimetype": "text/x-python",
   "name": "python",
   "nbconvert_exporter": "python",
   "pygments_lexer": "ipython3",
   "version": "3.8.10"
  }
 },
 "nbformat": 4,
 "nbformat_minor": 5
}
